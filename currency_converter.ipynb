{
 "cells": [
  {
   "cell_type": "code",
   "execution_count": 8,
   "metadata": {},
   "outputs": [],
   "source": [
    "import requests\n",
    "from bs4 import BeautifulSoup\n",
    "URL = 'https://wechselkurse-euro.de/'\n",
    "page = requests.get(URL)\n",
    "soup = BeautifulSoup(page.content, 'html.parser')\n",
    "results = soup.find('div', class_='table_responsive mb10social')\n",
    "\n",
    "currencies = results.find_all('table', class_='table kurzy')\n",
    "for currency in currencies:\n",
    "    currency = list(filter(None, currency.text.split('\\n')))\n",
    "\n",
    "symbols = []\n",
    "numbers = []\n",
    "\n",
    "length = len(currency) \n",
    "i = 12\n",
    "j = 14 \n",
    "\n",
    "while i < length: \n",
    "    symbols.append(currency[i])\n",
    "    i += 7\n",
    " \n",
    "while j < length: \n",
    "    numbers.append(float(currency[j]))   \n",
    "    j += 7    \n",
    "\n",
    "rates = {}\n",
    "\n",
    "for key in symbols: \n",
    "    for value in numbers: \n",
    "        rates[key] = value \n",
    "        numbers.remove(value) \n",
    "        break \n",
    "\n",
    "rates['EUR'] = 1.0\n",
    "\n",
    "#print(rates)\n",
    "\n",
    "def converter():\n",
    "\n",
    "    from_currency = input(\"Type in a symbol of a currency which you want to convert and hit ENTER:\\n\")\n",
    "    if from_currency.upper() not in rates:\n",
    "        print(\"Wrong currency symbol.\")\n",
    "    else:\n",
    "        to_currency = input(\"Type in a symbol of a currency which you want to convert into and hit ENTER:\\n\")\n",
    "        if to_currency.upper() not in rates:\n",
    "            print(\"Wrong currency symbol.\")\n",
    "        else:\n",
    "            initial_amount = float(input(\"Type in an amount that you want to convert and hit ENTER:\\n\"))\n",
    "            try:\n",
    "                aux_currency = float(initial_amount) / (rates[from_currency.upper()])\n",
    "                end_amount = round(aux_currency * rates[to_currency.upper()], 2)\n",
    "                print(str(initial_amount) + \" \" + from_currency.upper() + \" = \" + str(end_amount) + \" \" + to_currency.upper())\n",
    "            except ValueError:\n",
    "                print(\"You must type in a number.\")\n",
    "                \n",
    "converter()"
   ]
  },
  {
   "cell_type": "code",
   "execution_count": null,
   "metadata": {},
   "outputs": [],
   "source": []
  }
 ],
 "metadata": {
  "kernelspec": {
   "display_name": "Python 3",
   "language": "python",
   "name": "python3"
  },
  "language_info": {
   "codemirror_mode": {
    "name": "ipython",
    "version": 3
   },
   "file_extension": ".py",
   "mimetype": "text/x-python",
   "name": "python",
   "nbconvert_exporter": "python",
   "pygments_lexer": "ipython3",
   "version": "3.7.4"
  }
 },
 "nbformat": 4,
 "nbformat_minor": 2
}
